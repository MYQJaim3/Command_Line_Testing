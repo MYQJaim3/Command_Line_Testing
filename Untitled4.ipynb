{
  "nbformat": 4,
  "nbformat_minor": 0,
  "metadata": {
    "colab": {
      "provenance": [],
      "authorship_tag": "ABX9TyP66WKXGPrCi7chjijdjAlb",
      "include_colab_link": true
    },
    "kernelspec": {
      "name": "python3",
      "display_name": "Python 3"
    },
    "language_info": {
      "name": "python"
    }
  },
  "cells": [
    {
      "cell_type": "markdown",
      "metadata": {
        "id": "view-in-github",
        "colab_type": "text"
      },
      "source": [
        "<a href=\"https://colab.research.google.com/github/MYQJaim3/Command_Line_Testing/blob/main/Untitled4.ipynb\" target=\"_parent\"><img src=\"https://colab.research.google.com/assets/colab-badge.svg\" alt=\"Open In Colab\"/></a>"
      ]
    },
    {
      "cell_type": "code",
      "source": [
        "# Import necessary libraries\n",
        "import pandas as pd\n",
        "import numpy as np\n",
        "from sklearn.model_selection import train_test_split, cross_val_score\n",
        "from sklearn.preprocessing import StandardScaler\n",
        "from sklearn.ensemble import RandomForestRegressor\n",
        "from sklearn.cluster import KMeans\n",
        "from tensorflow.keras.models import Sequential\n",
        "from tensorflow.keras.layers import Dense, Dropout\n",
        "from sklearn.metrics import mean_squared_error\n",
        "import warnings\n",
        "warnings.filterwarnings('ignore')\n"
      ],
      "metadata": {
        "id": "hf2SF0rpfn4o"
      },
      "execution_count": 18,
      "outputs": []
    },
    {
      "cell_type": "code",
      "source": [
        "# Load and preprocess data\n",
        "df = pd.read_csv('lottotexas.csv')\n",
        "# Convert date columns to datetime\n",
        "df['date'] = pd.to_datetime(df[['Year', 'Month', 'Day']])\n",
        "# Extract numbers\n",
        "numbers = df[['E', 'F', 'G', 'H', 'I', 'J']].values\n"
      ],
      "metadata": {
        "id": "VLpzyyUPfnuW"
      },
      "execution_count": 19,
      "outputs": []
    },
    {
      "cell_type": "code",
      "source": [
        "# Feature Engineering\n",
        "def create_features(numbers):\n",
        "    features = []\n",
        "    for i in range(len(numbers)):\n",
        "        # Calculate frequency of each number in last 10 draws\n",
        "        if i >= 10:\n",
        "            last_10_draws = numbers[i-10:i].flatten()\n",
        "            number_freq = [np.sum(last_10_draws == j) for j in range(1, 51)]\n",
        "        else:\n",
        "            number_freq = [0] * 50\n",
        "\n",
        "        # Calculate mean and std of current draw\n",
        "        current_draw_mean = np.mean(numbers[i])\n",
        "        current_draw_std = np.std(numbers[i])\n",
        "\n",
        "        # Combine features\n",
        "        features.append(number_freq + [current_draw_mean, current_draw_std])\n",
        "\n",
        "    return np.array(features)\n",
        "\n",
        "X = create_features(numbers)\n",
        "y = numbers\n"
      ],
      "metadata": {
        "id": "yuA90B3AfW_q"
      },
      "execution_count": 20,
      "outputs": []
    },
    {
      "cell_type": "code",
      "execution_count": 21,
      "metadata": {
        "id": "5KfARUkjfTSd"
      },
      "outputs": [],
      "source": [
        "# Split data\n",
        "X_train, X_test, y_train, y_test = train_test_split(X, y, test_size=0.2, random_state=42)\n",
        "\n",
        "# Scale features\n",
        "scaler = StandardScaler()\n",
        "X_train_scaled = scaler.fit_transform(X_train)\n",
        "X_test_scaled = scaler.transform(X_test)\n"
      ]
    },
    {
      "cell_type": "code",
      "source": [
        "# Neural Network Model\n",
        "def create_nn_model():\n",
        "    model = Sequential([\n",
        "        Dense(128, activation='relu', input_shape=(X_train.shape[1],)),\n",
        "        Dropout(0.3),\n",
        "        Dense(64, activation='relu'),\n",
        "        Dropout(0.2),\n",
        "        Dense(6)\n",
        "    ])\n",
        "    model.compile(optimizer='adam', loss='mse')\n",
        "    return model\n",
        "\n",
        "nn_model = create_nn_model()\n",
        "nn_model.fit(X_train_scaled, y_train, epochs=50, batch_size=32, verbose=0)\n"
      ],
      "metadata": {
        "colab": {
          "base_uri": "https://localhost:8080/"
        },
        "id": "xFFLwyzAfUAD",
        "outputId": "56d3417c-e0fc-4096-d529-c157ddea70e5"
      },
      "execution_count": 22,
      "outputs": [
        {
          "output_type": "execute_result",
          "data": {
            "text/plain": [
              "<keras.src.callbacks.history.History at 0x7ac52a335b70>"
            ]
          },
          "metadata": {},
          "execution_count": 22
        }
      ]
    },
    {
      "cell_type": "code",
      "source": [
        "# Random Forest Model\n",
        "rf_model = RandomForestRegressor(n_estimators=100, random_state=42)\n",
        "rf_model.fit(X_train_scaled, y_train)\n",
        "\n",
        "# Cross-validation score\n",
        "cv_scores = cross_val_score(rf_model, X_train_scaled, y_train, cv=5)\n",
        "print(f\"Random Forest CV Scores: {cv_scores.mean():.4f} (+/- {cv_scores.std() * 2:.4f})\")\n"
      ],
      "metadata": {
        "colab": {
          "base_uri": "https://localhost:8080/"
        },
        "id": "vtJm55X8fT7u",
        "outputId": "56d86798-0efb-4588-ff33-f90b7fd25f74"
      },
      "execution_count": 23,
      "outputs": [
        {
          "output_type": "stream",
          "name": "stdout",
          "text": [
            "Random Forest CV Scores: 0.1295 (+/- 0.0203)\n"
          ]
        }
      ]
    },
    {
      "cell_type": "code",
      "source": [
        "# K-Means Clustering\n",
        "kmeans = KMeans(n_clusters=10, random_state=42)\n",
        "clusters = kmeans.fit_predict(numbers)\n",
        "\n",
        "# Function to generate predictions\n",
        "def generate_prediction():\n",
        "    # Create features for the latest data point\n",
        "    latest_features = create_features(numbers)[-1:]\n",
        "    latest_features_scaled = scaler.transform(latest_features)\n",
        "\n",
        "    # Get predictions from both models\n",
        "    nn_pred = nn_model.predict(latest_features_scaled)\n",
        "    rf_pred = rf_model.predict(latest_features_scaled)\n",
        "\n",
        "    # Combine predictions (ensemble approach)\n",
        "    final_prediction = (nn_pred + rf_pred) / 2\n",
        "\n",
        "    # Round to nearest integers and ensure numbers are within valid range\n",
        "    final_prediction = np.clip(np.round(final_prediction), 1, 50)\n",
        "    final_prediction[0, 5] = np.clip(final_prediction[0, 5], 1, 25)\n",
        "    return final_prediction[0]\n",
        "\n",
        "# Generate prediction for next draw\n",
        "prediction = generate_prediction()\n",
        "print(\"Predicted numbers for next draw:\", prediction)\n"
      ],
      "metadata": {
        "colab": {
          "base_uri": "https://localhost:8080/"
        },
        "id": "y8f8Hw9ufT5w",
        "outputId": "a4a9fcc2-791b-47aa-8d4b-4a0837c2920a"
      },
      "execution_count": 24,
      "outputs": [
        {
          "output_type": "stream",
          "name": "stdout",
          "text": [
            "\u001b[1m1/1\u001b[0m \u001b[32m━━━━━━━━━━━━━━━━━━━━\u001b[0m\u001b[37m\u001b[0m \u001b[1m0s\u001b[0m 50ms/step\n",
            "Predicted numbers for next draw: [31. 35. 32. 39. 40. 25.]\n"
          ]
        }
      ]
    },
    {
      "cell_type": "code",
      "source": [
        "# Evaluate model performance\n",
        "nn_predictions = nn_model.predict(X_test_scaled)\n",
        "rf_predictions = rf_model.predict(X_test_scaled)\n",
        "\n",
        "nn_mse = mean_squared_error(y_test, nn_predictions)\n",
        "rf_mse = mean_squared_error(y_test, rf_predictions)\n",
        "\n",
        "print(f\"Neural Network MSE: {nn_mse:.4f}\")\n",
        "print(f\"Random Forest MSE: {rf_mse:.4f}\")\n"
      ],
      "metadata": {
        "colab": {
          "base_uri": "https://localhost:8080/"
        },
        "id": "KutFu7b3fT3V",
        "outputId": "10eeb337-8007-4091-f99a-c285036c26d8"
      },
      "execution_count": 25,
      "outputs": [
        {
          "output_type": "stream",
          "name": "stdout",
          "text": [
            "\u001b[1m23/23\u001b[0m \u001b[32m━━━━━━━━━━━━━━━━━━━━\u001b[0m\u001b[37m\u001b[0m \u001b[1m0s\u001b[0m 2ms/step \n",
            "Neural Network MSE: 202.7795\n",
            "Random Forest MSE: 206.2347\n"
          ]
        }
      ]
    },
    {
      "cell_type": "code",
      "source": [],
      "metadata": {
        "id": "Nh4iPx9TfT0_"
      },
      "execution_count": null,
      "outputs": []
    },
    {
      "cell_type": "code",
      "source": [],
      "metadata": {
        "id": "KkcWF44VfTyc"
      },
      "execution_count": null,
      "outputs": []
    },
    {
      "cell_type": "code",
      "source": [],
      "metadata": {
        "id": "lhB7YEMPfTwH"
      },
      "execution_count": null,
      "outputs": []
    }
  ]
}